{
 "cells": [
  {
   "cell_type": "code",
   "execution_count": 42,
   "id": "dc68f39f-51c2-40ef-8a0f-121ba834b91c",
   "metadata": {
    "tags": []
   },
   "outputs": [],
   "source": [
    "import pandas as pd\n",
    "import seaborn as sns\n",
    "import matplotlib.pyplot as plt"
   ]
  },
  {
   "cell_type": "code",
   "execution_count": 43,
   "id": "89c76224-f4de-4910-b3d5-221dad46f18e",
   "metadata": {
    "tags": []
   },
   "outputs": [],
   "source": [
    "df = pd.read_csv('amz_uk_price_prediction_dataset.csv')"
   ]
  },
  {
   "cell_type": "code",
   "execution_count": 113,
   "id": "1378c55f-67ff-4820-ade3-513badf51ca8",
   "metadata": {
    "tags": []
   },
   "outputs": [
    {
     "data": {
      "text/html": [
       "<div>\n",
       "<style scoped>\n",
       "    .dataframe tbody tr th:only-of-type {\n",
       "        vertical-align: middle;\n",
       "    }\n",
       "\n",
       "    .dataframe tbody tr th {\n",
       "        vertical-align: top;\n",
       "    }\n",
       "\n",
       "    .dataframe thead th {\n",
       "        text-align: right;\n",
       "    }\n",
       "</style>\n",
       "<table border=\"1\" class=\"dataframe\">\n",
       "  <thead>\n",
       "    <tr style=\"text-align: right;\">\n",
       "      <th></th>\n",
       "      <th>uid</th>\n",
       "      <th>asin</th>\n",
       "      <th>title</th>\n",
       "      <th>stars</th>\n",
       "      <th>reviews</th>\n",
       "      <th>price</th>\n",
       "      <th>isBestSeller</th>\n",
       "      <th>boughtInLastMonth</th>\n",
       "      <th>category</th>\n",
       "      <th>price_category</th>\n",
       "    </tr>\n",
       "  </thead>\n",
       "  <tbody>\n",
       "    <tr>\n",
       "      <th>0</th>\n",
       "      <td>1</td>\n",
       "      <td>B09B96TG33</td>\n",
       "      <td>Echo Dot (5th generation, 2022 release) | Big ...</td>\n",
       "      <td>4.7</td>\n",
       "      <td>15308</td>\n",
       "      <td>21.99</td>\n",
       "      <td>False</td>\n",
       "      <td>0</td>\n",
       "      <td>Hi-Fi Speakers</td>\n",
       "      <td>Low</td>\n",
       "    </tr>\n",
       "    <tr>\n",
       "      <th>1</th>\n",
       "      <td>2</td>\n",
       "      <td>B01HTH3C8S</td>\n",
       "      <td>Anker Soundcore mini, Super-Portable Bluetooth...</td>\n",
       "      <td>4.7</td>\n",
       "      <td>98099</td>\n",
       "      <td>23.99</td>\n",
       "      <td>True</td>\n",
       "      <td>0</td>\n",
       "      <td>Hi-Fi Speakers</td>\n",
       "      <td>Low</td>\n",
       "    </tr>\n",
       "    <tr>\n",
       "      <th>2</th>\n",
       "      <td>3</td>\n",
       "      <td>B09B8YWXDF</td>\n",
       "      <td>Echo Dot (5th generation, 2022 release) | Big ...</td>\n",
       "      <td>4.7</td>\n",
       "      <td>15308</td>\n",
       "      <td>21.99</td>\n",
       "      <td>False</td>\n",
       "      <td>0</td>\n",
       "      <td>Hi-Fi Speakers</td>\n",
       "      <td>Low</td>\n",
       "    </tr>\n",
       "    <tr>\n",
       "      <th>3</th>\n",
       "      <td>4</td>\n",
       "      <td>B09B8T5VGV</td>\n",
       "      <td>Echo Dot with clock (5th generation, 2022 rele...</td>\n",
       "      <td>4.7</td>\n",
       "      <td>7205</td>\n",
       "      <td>31.99</td>\n",
       "      <td>False</td>\n",
       "      <td>0</td>\n",
       "      <td>Hi-Fi Speakers</td>\n",
       "      <td>Low</td>\n",
       "    </tr>\n",
       "    <tr>\n",
       "      <th>4</th>\n",
       "      <td>5</td>\n",
       "      <td>B09WX6QD65</td>\n",
       "      <td>Introducing Echo Pop | Full sound compact Wi-F...</td>\n",
       "      <td>4.6</td>\n",
       "      <td>1881</td>\n",
       "      <td>17.99</td>\n",
       "      <td>False</td>\n",
       "      <td>0</td>\n",
       "      <td>Hi-Fi Speakers</td>\n",
       "      <td>Low</td>\n",
       "    </tr>\n",
       "  </tbody>\n",
       "</table>\n",
       "</div>"
      ],
      "text/plain": [
       "   uid        asin                                              title  stars  \\\n",
       "0    1  B09B96TG33  Echo Dot (5th generation, 2022 release) | Big ...    4.7   \n",
       "1    2  B01HTH3C8S  Anker Soundcore mini, Super-Portable Bluetooth...    4.7   \n",
       "2    3  B09B8YWXDF  Echo Dot (5th generation, 2022 release) | Big ...    4.7   \n",
       "3    4  B09B8T5VGV  Echo Dot with clock (5th generation, 2022 rele...    4.7   \n",
       "4    5  B09WX6QD65  Introducing Echo Pop | Full sound compact Wi-F...    4.6   \n",
       "\n",
       "   reviews  price  isBestSeller  boughtInLastMonth        category  \\\n",
       "0    15308  21.99         False                  0  Hi-Fi Speakers   \n",
       "1    98099  23.99          True                  0  Hi-Fi Speakers   \n",
       "2    15308  21.99         False                  0  Hi-Fi Speakers   \n",
       "3     7205  31.99         False                  0  Hi-Fi Speakers   \n",
       "4     1881  17.99         False                  0  Hi-Fi Speakers   \n",
       "\n",
       "  price_category  \n",
       "0            Low  \n",
       "1            Low  \n",
       "2            Low  \n",
       "3            Low  \n",
       "4            Low  "
      ]
     },
     "execution_count": 113,
     "metadata": {},
     "output_type": "execute_result"
    }
   ],
   "source": [
    "df.head()"
   ]
  },
  {
   "cell_type": "code",
   "execution_count": 4,
   "id": "1364ee7d-f087-4d00-8b1d-4944b6b0d6ef",
   "metadata": {
    "tags": []
   },
   "outputs": [
    {
     "data": {
      "text/plain": [
       "(2443651, 9)"
      ]
     },
     "execution_count": 4,
     "metadata": {},
     "output_type": "execute_result"
    }
   ],
   "source": [
    "df.shape"
   ]
  },
  {
   "cell_type": "markdown",
   "id": "24ef4f70-67db-47bc-a071-bdd59921003a",
   "metadata": {
    "tags": []
   },
   "source": [
    "## Part 1: Understanding Product Categories"
   ]
  },
  {
   "cell_type": "markdown",
   "id": "709179f8-1ffe-40cf-a3bd-7dce6debc4d1",
   "metadata": {},
   "source": [
    "**Business Question:** What are the most popular product categories on Amazon UK, and how do they compare in terms of listing frequency?"
   ]
  },
  {
   "cell_type": "markdown",
   "id": "4f0f8dd6-86e5-40a1-bc3c-e52667c3c46e",
   "metadata": {},
   "source": [
    " **1. Frequency Tables:**\n",
    "\n",
    " - Generate a frequency table for the product category.\n",
    " - Which are the top 5 most listed product categories?"
   ]
  },
  {
   "cell_type": "code",
   "execution_count": 30,
   "id": "052c011a-83f5-426e-ae8c-0753c898e1c1",
   "metadata": {
    "tags": []
   },
   "outputs": [],
   "source": [
    "category_freq = df['category'].value_counts()"
   ]
  },
  {
   "cell_type": "code",
   "execution_count": 31,
   "id": "80bc21e0-abfd-493c-9e23-74b01a4ad098",
   "metadata": {
    "tags": []
   },
   "outputs": [
    {
     "data": {
      "text/plain": [
       "category\n",
       "Sports & Outdoors                         836265\n",
       "Beauty                                     19312\n",
       "Handmade Clothing, Shoes & Accessories     19229\n",
       "Bath & Body                                19092\n",
       "Birthday Gifts                             18978\n",
       "                                           ...  \n",
       "Alexa Built-In Devices                       107\n",
       "Motorbike Chassis                            107\n",
       "Plugs                                        107\n",
       "Smart Home Security & Lighting               104\n",
       "Smart Speakers                                54\n",
       "Name: count, Length: 296, dtype: int64"
      ]
     },
     "execution_count": 31,
     "metadata": {},
     "output_type": "execute_result"
    }
   ],
   "source": [
    "category_freq"
   ]
  },
  {
   "cell_type": "code",
   "execution_count": 32,
   "id": "e1d0571d-8f0f-4480-ae98-1da18b0c60d7",
   "metadata": {
    "tags": []
   },
   "outputs": [],
   "source": [
    "top_categories = category_freq.head(5)"
   ]
  },
  {
   "cell_type": "code",
   "execution_count": 33,
   "id": "762d914a-892b-4eaa-9ee6-606140f64cde",
   "metadata": {
    "tags": []
   },
   "outputs": [
    {
     "name": "stdout",
     "output_type": "stream",
     "text": [
      "The top 5 most listed product categories are: ['Sports & Outdoors', 'Beauty', 'Handmade Clothing, Shoes & Accessories', 'Bath & Body', 'Birthday Gifts']\n"
     ]
    }
   ],
   "source": [
    "print('The top 5 most listed product categories are:', list(top_categories.index))"
   ]
  },
  {
   "cell_type": "markdown",
   "id": "46bafb29-3708-4019-9c58-242ba457fcab",
   "metadata": {},
   "source": [
    " **2. Visualizations:**\n",
    "\n",
    " - Display the distribution of products across different categories using a bar chart. If you face problems understanding the chart, do it for a subset of top categories.\n",
    "\n"
   ]
  },
  {
   "cell_type": "code",
   "execution_count": 45,
   "id": "ee418ff5-8763-4c75-a4ab-7c2adea99d3a",
   "metadata": {
    "tags": []
   },
   "outputs": [],
   "source": [
    "# Subset of categories with more than 10,000 products\n",
    "subset = category_freq[category_freq > 10000]"
   ]
  },
  {
   "cell_type": "code",
   "execution_count": 46,
   "id": "1a012f04-26b3-400f-8eda-3568ac3da8c3",
   "metadata": {
    "tags": []
   },
   "outputs": [
    {
     "data": {
      "image/png": "[encoded data removed]",
      "text/plain": [
       "<Figure size 640x480 with 1 Axes>"
      ]
     },
     "metadata": {},
     "output_type": "display_data"
    }
   ],
   "source": [
    "ax = sns.barplot(x=subset.values, y=subset.index)\n",
    "\n",
    "ax.set_ylabel('')\n",
    "ax.set_xlabel('Nr of products per cateory')\n",
    "# Get the current y-axis tick labels\n",
    "x_labels = ax.get_xticks()\n",
    "\n",
    "# Format the labels to a simplified form (e.g., 10K for 10,000)\n",
    "formatted_labels = [f\"{int(label / 1000)}K\" for label in x_labels]\n",
    "\n",
    "# Set the new formatted labels and tick locations to the y-axis\n",
    "ax.set_xticks(x_labels)\n",
    "ax.set_xticklabels(formatted_labels)\n",
    "\n",
    "plt.show()"
   ]
  },
  {
   "cell_type": "code",
   "execution_count": 44,
   "id": "5941f13f-8944-47d9-9157-674477d8587b",
   "metadata": {
    "tags": []
   },
   "outputs": [],
   "source": [
    "# ax = sns.barplot(x=subset.index, y=subset.values)\n",
    "# plt.xticks(rotation=45, ha=\"right\")\n",
    "# ax.set_xlabel('')\n",
    "\n",
    "# # Get the current y-axis tick labels\n",
    "# y_labels = ax.get_yticks()\n",
    "\n",
    "# # Format the labels to a simplified form (e.g., 10K for 10,000)\n",
    "# formatted_labels = [f\"{int(label / 1000)}K\" for label in y_labels]\n",
    "\n",
    "# # Set the new formatted labels and tick locations to the y-axis\n",
    "# ax.set_yticks(y_labels)\n",
    "# ax.set_yticklabels(formatted_labels)\n",
    "\n",
    "# plt.show()"
   ]
  },
  {
   "cell_type": "markdown",
   "id": "5e31a969-3c63-47df-979e-bb11f238e615",
   "metadata": {},
   "source": [
    " - For a subset of top categories, visualize their proportions using a pie chart. Does any category dominate the listings?"
   ]
  },
  {
   "cell_type": "code",
   "execution_count": 158,
   "id": "678e7d42-1469-4f0c-9c84-94886a6877c3",
   "metadata": {
    "tags": []
   },
   "outputs": [
    {
     "data": {
      "text/plain": [
       "Text(0, 0.5, '')"
      ]
     },
     "execution_count": 158,
     "metadata": {},
     "output_type": "execute_result"
    },
    {
     "data": {
      "image/png": "[encoded data removed]",
      "text/plain": [
       "<Figure size 640x480 with 1 Axes>"
      ]
     },
     "metadata": {},
     "output_type": "display_data"
    }
   ],
   "source": [
    "top_10 = category_freq.iloc[:10]\n",
    "\n",
    "top_10.plot.pie(autopct='%1.1f%%', startangle=180, colors=sns.color_palette(\"Set3\"))\n",
    "plt.ylabel('')"
   ]
  },
  {
   "cell_type": "markdown",
   "id": "71a8e09b-99ae-4610-9996-7f619a6e3f4e",
   "metadata": {},
   "source": [
    "The category dominating all others is **'Sports & Outdors'**"
   ]
  },
  {
   "cell_type": "markdown",
   "id": "2a0a6a30-8b03-4f64-96fd-ebcd149cee17",
   "metadata": {},
   "source": [
    "## Part 2: Delving into Product Pricing"
   ]
  },
  {
   "cell_type": "markdown",
   "id": "88fb9209-ee3f-4e33-b1e8-134943e28035",
   "metadata": {},
   "source": [
    "**Business Question:** How are products priced on Amazon UK, and are there specific price points or ranges that are more common?"
   ]
  },
  {
   "cell_type": "markdown",
   "id": "f6317dc5-ea12-494f-a795-aa7d2fcca3ef",
   "metadata": {},
   "source": [
    "**1.Measures of Centrality:**\n",
    "\n",
    "- Calculate the mean, median, and mode for the price of products.\n",
    " - What's the average price point of products listed? How does this compare with the most common price point (mode)?"
   ]
  },
  {
   "cell_type": "code",
   "execution_count": 6,
   "id": "6072f7e4-8214-46b4-ae23-6f556adb17f6",
   "metadata": {
    "tags": []
   },
   "outputs": [
    {
     "name": "stdout",
     "output_type": "stream",
     "text": [
      "Mean:   89.24\n",
      "Median: 19.09\n",
      "Mode:   9.99\n"
     ]
    }
   ],
   "source": [
    "def mean_med_mode(df):\n",
    "    print(f\"Mean:   {df.mean():.2f}\")\n",
    "    print(f\"Median: {df.median()}\")\n",
    "    print(f\"Mode:   {df.mode()[0]}\")\n",
    "    \n",
    "mean_med_mode(df['price'])"
   ]
  },
  {
   "cell_type": "markdown",
   "id": "73160e2c-a496-4333-acad-5d8265808ba0",
   "metadata": {},
   "source": [
    "- Average product price is almost 90, with a median of only 19.09. The most common price is only 9.99\n",
    "\n",
    "- The values of mean, mode, and median suggest that some products have much higher prices, leading to an increase in the average price.\n"
   ]
  },
  {
   "cell_type": "markdown",
   "id": "246825da-2033-49e9-ad8c-0d8420a3b1db",
   "metadata": {},
   "source": [
    "**2. Measures of Dispersion:**\n",
    "\n",
    " - Determine the variance, standard deviation, range, and interquartile range for product price.\n",
    " - How varied are the product prices? Are there any indicators of a significant spread in prices?"
   ]
  },
  {
   "cell_type": "code",
   "execution_count": 40,
   "id": "f9536c7c-3dfc-41b3-a831-ff556df6dbc8",
   "metadata": {
    "tags": []
   },
   "outputs": [],
   "source": [
    "Q1 = df['price'].quantile(0.25)\n",
    "Q2 = df['price'].quantile(0.5)\n",
    "IQR = Q2 - Q1"
   ]
  },
  {
   "cell_type": "code",
   "execution_count": 41,
   "id": "77738952-28ef-4972-ba12-598d59d0a093",
   "metadata": {
    "tags": []
   },
   "outputs": [
    {
     "data": {
      "text/plain": [
       "9.1"
      ]
     },
     "execution_count": 41,
     "metadata": {},
     "output_type": "execute_result"
    }
   ],
   "source": [
    "IQR"
   ]
  },
  {
   "cell_type": "code",
   "execution_count": 84,
   "id": "f14eb7b0-65b8-4098-85cb-e3e0253a1be3",
   "metadata": {
    "tags": []
   },
   "outputs": [
    {
     "name": "stdout",
     "output_type": "stream",
     "text": [
      "Variance:\n",
      "119445.49\n",
      "\n",
      "Standard deviation:\n",
      "345.61\n",
      "\n",
      "Max value:\n",
      "100000.0\n",
      "\n",
      "Min value:\n",
      "0.0\n",
      "\n",
      "Range:\n",
      "100000.0\n",
      "\n",
      "Quantiles:\n",
      "0.1      5.99\n",
      "0.2      8.99\n",
      "0.3     11.77\n",
      "0.4     14.99\n",
      "0.5     19.09\n",
      "0.6     25.49\n",
      "0.7     36.00\n",
      "0.8     60.49\n",
      "0.9    149.99\n",
      "Name: price, dtype: float64\n",
      "\n",
      "IQR:\n",
      "36.0\n",
      "\n"
     ]
    }
   ],
   "source": [
    "def calc_stat(df):\n",
    "    stat = {\n",
    "        \"Variance\" : round(df.var(),2),\n",
    "        \"Standard deviation\" : round(df.std(),2),\n",
    "        \"Max value\" : df.max(),\n",
    "        \"Min value\" : df.min(),\n",
    "        \"Range\" : df.max() - df.min(),\n",
    "        \"Quantiles\": df.quantile([0.1, 0.2, 0.3, 0.4, 0.5, 0.6, 0.7, 0.8, 0.9]),\n",
    "        \"IQR\" : df.quantile([0.75]).iloc[0] - df.quantile([0.25]).iloc[0]\n",
    "    }\n",
    "    \n",
    "    for k,v in stat.items():\n",
    "        print(f\"{k}:\\n{v}\\n\")\n",
    "\n",
    "calc_stat(df['price'])\n"
   ]
  },
  {
   "cell_type": "markdown",
   "id": "ce20a03d-2f2c-420d-bbd1-68aafd63aeb9",
   "metadata": {},
   "source": [
    "How varied are the product prices? Are there any indicators of a significant spread in prices?\n",
    "\n",
    "- The huge range of prices, values of variance and stadard deviation indicate a big spread of product prices. \n",
    "- The quantiles values show that 90% of prices fall below 150, thus the products with much higher prices are less than 10% of all.\n",
    "- The big standard deviation (345.6), is much higher than the average product price (~90), and since the product prices cannot be negative, this value (and the positive skew) indicate not only the big dispersion of values but also that the maxima of price distribution is shifted/skewed to the left.\n",
    "\n"
   ]
  },
  {
   "cell_type": "markdown",
   "id": "a578b63d-ecf4-4a61-9e71-1edff1cba9aa",
   "metadata": {},
   "source": [
    "**3. Visualizations:**\n",
    "\n",
    " - Is there a specific price range where most products fall? Plot a histogram to visualize the distribution of product prices. If its hard to read these diagrams, think why this is, and explain how it could be solved..\n"
   ]
  },
  {
   "cell_type": "code",
   "execution_count": 74,
   "id": "2258bbd5-4561-415d-b71c-f27cf62bb660",
   "metadata": {
    "tags": []
   },
   "outputs": [],
   "source": [
    "# due to huge spread of product prices only the prices that fall within 90% of prices are plotted; otherwise histogram would not be very clear due to long tails in distribution\n",
    "\n",
    "limit = df['price'].quantile([0.9])[0.9]\n",
    "price_limit = df.loc[df['price'] < limit, 'price']"
   ]
  },
  {
   "cell_type": "code",
   "execution_count": 75,
   "id": "7084fe22-9de8-40d0-8519-3c0dddc2488d",
   "metadata": {
    "tags": []
   },
   "outputs": [
    {
     "data": {
      "text/plain": [
       "<Axes: xlabel='price', ylabel='Count'>"
      ]
     },
     "execution_count": 75,
     "metadata": {},
     "output_type": "execute_result"
    },
    {
     "data": {
      "image/png": "[encoded data removed]",
      "text/plain": [
       "<Figure size 640x480 with 1 Axes>"
      ]
     },
     "metadata": {},
     "output_type": "display_data"
    }
   ],
   "source": [
    "sns.histplot(data=price_limit, bins=50, color=\"salmon\")\n",
    "\n",
    "#  kde=True,"
   ]
  },
  {
   "cell_type": "markdown",
   "id": "ab8eb06b-d994-47b4-9606-243af3aed6bd",
   "metadata": {
    "tags": []
   },
   "source": [
    " - Are there products that are priced significantly higher than the rest? Use a box plot to showcase the spread and potential outliers in product pricing."
   ]
  },
  {
   "cell_type": "code",
   "execution_count": 112,
   "id": "16f9a0fe-50b2-42f2-9036-77684ec4e18e",
   "metadata": {
    "tags": []
   },
   "outputs": [
    {
     "data": {
      "text/plain": [
       "<Axes: >"
      ]
     },
     "execution_count": 112,
     "metadata": {},
     "output_type": "execute_result"
    },
    {
     "data": {
      "image/png": "[encoded data removed]",
      "text/plain": [
       "<Figure size 640x480 with 1 Axes>"
      ]
     },
     "metadata": {},
     "output_type": "display_data"
    }
   ],
   "source": [
    "# When limited range of prices is used we can ibserve that 50% of prices is in the range approx. 10 to 35$ with mean value below 20$.\n",
    "\n",
    "sns.boxplot(data = price_limit, color=\"lightblue\", orient='h')"
   ]
  },
  {
   "cell_type": "code",
   "execution_count": 61,
   "id": "5a5e965f-4cb7-4e10-ba18-48b3d20c3adf",
   "metadata": {
    "tags": []
   },
   "outputs": [
    {
     "data": {
      "text/plain": [
       "<Axes: >"
      ]
     },
     "execution_count": 61,
     "metadata": {},
     "output_type": "execute_result"
    },
    {
     "data": {
      "image/png": "[encoded data removed]",
      "text/plain": [
       "<Figure size 640x480 with 1 Axes>"
      ]
     },
     "metadata": {},
     "output_type": "display_data"
    }
   ],
   "source": [
    "# When the full range of prices is used, the outliears dominate the plot, making it hard to read and interpret the results \n",
    "\n",
    "sns.boxplot(data = df['price'], color=\"lightblue\", orient='h')"
   ]
  },
  {
   "cell_type": "markdown",
   "id": "17abb9fa-ff29-47f0-af7e-90e0454c0545",
   "metadata": {
    "tags": []
   },
   "source": [
    "## Part 3: Unpacking Product Ratings"
   ]
  },
  {
   "cell_type": "markdown",
   "id": "4c5307e2-09b9-470b-a3bc-ee4808124524",
   "metadata": {},
   "source": [
    "**Business Question:** How do customers rate products on Amazon UK, and are there any patterns or tendencies in the ratings?\n",
    "\n",
    "**1. Measures of Centrality:**\n",
    " - Calculate the mean, median, and mode for the rating of products.\n",
    " - How do customers generally rate products? Is there a common trend?\n",
    " \n",
    " \n"
   ]
  },
  {
   "cell_type": "code",
   "execution_count": 4,
   "id": "1178f43f-e6ca-4b9c-9c6e-2b6a67b377bd",
   "metadata": {
    "tags": []
   },
   "outputs": [
    {
     "data": {
      "text/html": [
       "<div>\n",
       "<style scoped>\n",
       "    .dataframe tbody tr th:only-of-type {\n",
       "        vertical-align: middle;\n",
       "    }\n",
       "\n",
       "    .dataframe tbody tr th {\n",
       "        vertical-align: top;\n",
       "    }\n",
       "\n",
       "    .dataframe thead th {\n",
       "        text-align: right;\n",
       "    }\n",
       "</style>\n",
       "<table border=\"1\" class=\"dataframe\">\n",
       "  <thead>\n",
       "    <tr style=\"text-align: right;\">\n",
       "      <th></th>\n",
       "      <th>uid</th>\n",
       "      <th>asin</th>\n",
       "      <th>title</th>\n",
       "      <th>stars</th>\n",
       "      <th>reviews</th>\n",
       "      <th>price</th>\n",
       "      <th>isBestSeller</th>\n",
       "      <th>boughtInLastMonth</th>\n",
       "      <th>category</th>\n",
       "    </tr>\n",
       "  </thead>\n",
       "  <tbody>\n",
       "    <tr>\n",
       "      <th>0</th>\n",
       "      <td>1</td>\n",
       "      <td>B09B96TG33</td>\n",
       "      <td>Echo Dot (5th generation, 2022 release) | Big ...</td>\n",
       "      <td>4.7</td>\n",
       "      <td>15308</td>\n",
       "      <td>21.99</td>\n",
       "      <td>False</td>\n",
       "      <td>0</td>\n",
       "      <td>Hi-Fi Speakers</td>\n",
       "    </tr>\n",
       "    <tr>\n",
       "      <th>1</th>\n",
       "      <td>2</td>\n",
       "      <td>B01HTH3C8S</td>\n",
       "      <td>Anker Soundcore mini, Super-Portable Bluetooth...</td>\n",
       "      <td>4.7</td>\n",
       "      <td>98099</td>\n",
       "      <td>23.99</td>\n",
       "      <td>True</td>\n",
       "      <td>0</td>\n",
       "      <td>Hi-Fi Speakers</td>\n",
       "    </tr>\n",
       "    <tr>\n",
       "      <th>2</th>\n",
       "      <td>3</td>\n",
       "      <td>B09B8YWXDF</td>\n",
       "      <td>Echo Dot (5th generation, 2022 release) | Big ...</td>\n",
       "      <td>4.7</td>\n",
       "      <td>15308</td>\n",
       "      <td>21.99</td>\n",
       "      <td>False</td>\n",
       "      <td>0</td>\n",
       "      <td>Hi-Fi Speakers</td>\n",
       "    </tr>\n",
       "    <tr>\n",
       "      <th>3</th>\n",
       "      <td>4</td>\n",
       "      <td>B09B8T5VGV</td>\n",
       "      <td>Echo Dot with clock (5th generation, 2022 rele...</td>\n",
       "      <td>4.7</td>\n",
       "      <td>7205</td>\n",
       "      <td>31.99</td>\n",
       "      <td>False</td>\n",
       "      <td>0</td>\n",
       "      <td>Hi-Fi Speakers</td>\n",
       "    </tr>\n",
       "    <tr>\n",
       "      <th>4</th>\n",
       "      <td>5</td>\n",
       "      <td>B09WX6QD65</td>\n",
       "      <td>Introducing Echo Pop | Full sound compact Wi-F...</td>\n",
       "      <td>4.6</td>\n",
       "      <td>1881</td>\n",
       "      <td>17.99</td>\n",
       "      <td>False</td>\n",
       "      <td>0</td>\n",
       "      <td>Hi-Fi Speakers</td>\n",
       "    </tr>\n",
       "  </tbody>\n",
       "</table>\n",
       "</div>"
      ],
      "text/plain": [
       "   uid        asin                                              title  stars  \\\n",
       "0    1  B09B96TG33  Echo Dot (5th generation, 2022 release) | Big ...    4.7   \n",
       "1    2  B01HTH3C8S  Anker Soundcore mini, Super-Portable Bluetooth...    4.7   \n",
       "2    3  B09B8YWXDF  Echo Dot (5th generation, 2022 release) | Big ...    4.7   \n",
       "3    4  B09B8T5VGV  Echo Dot with clock (5th generation, 2022 rele...    4.7   \n",
       "4    5  B09WX6QD65  Introducing Echo Pop | Full sound compact Wi-F...    4.6   \n",
       "\n",
       "   reviews  price  isBestSeller  boughtInLastMonth        category  \n",
       "0    15308  21.99         False                  0  Hi-Fi Speakers  \n",
       "1    98099  23.99          True                  0  Hi-Fi Speakers  \n",
       "2    15308  21.99         False                  0  Hi-Fi Speakers  \n",
       "3     7205  31.99         False                  0  Hi-Fi Speakers  \n",
       "4     1881  17.99         False                  0  Hi-Fi Speakers  "
      ]
     },
     "execution_count": 4,
     "metadata": {},
     "output_type": "execute_result"
    }
   ],
   "source": [
    "df.head(5)"
   ]
  },
  {
   "cell_type": "code",
   "execution_count": 85,
   "id": "bebbcaf2-21cd-4434-b4a8-190e381bd427",
   "metadata": {
    "tags": []
   },
   "outputs": [
    {
     "name": "stdout",
     "output_type": "stream",
     "text": [
      "Mean:   2.15\n",
      "Median: 0.0\n",
      "Mode:   0.0\n"
     ]
    }
   ],
   "source": [
    "mean_med_mode(df['stars'])"
   ]
  },
  {
   "cell_type": "markdown",
   "id": "2d284749-bbe9-434b-a5ce-e4f009345a78",
   "metadata": {},
   "source": [
    "- The avergae rate of products is only 2.15 stars (out of 5).\n",
    "\n",
    "- The dominant value is '0' that most probably denotes customers who didn't rate the products."
   ]
  },
  {
   "cell_type": "markdown",
   "id": "70994642-ee46-427a-916a-8a3ec45058fb",
   "metadata": {},
   "source": [
    "**2. Measures of Dispersion:**\n",
    "- Determine the variance, standard deviation, and interquartile range for product rating.\n",
    "- Are the ratings consistent, or is there a wide variation in customer feedback? \n"
   ]
  },
  {
   "cell_type": "code",
   "execution_count": 86,
   "id": "3f09cc16-4937-4748-af15-5e88c1e0094d",
   "metadata": {
    "tags": []
   },
   "outputs": [
    {
     "name": "stdout",
     "output_type": "stream",
     "text": [
      "Variance:\n",
      "4.82\n",
      "\n",
      "Standard deviation:\n",
      "2.19\n",
      "\n",
      "Max value:\n",
      "5.0\n",
      "\n",
      "Min value:\n",
      "0.0\n",
      "\n",
      "Range:\n",
      "5.0\n",
      "\n",
      "Quantiles:\n",
      "0.1    0.0\n",
      "0.2    0.0\n",
      "0.3    0.0\n",
      "0.4    0.0\n",
      "0.5    0.0\n",
      "0.6    4.0\n",
      "0.7    4.3\n",
      "0.8    4.5\n",
      "0.9    4.7\n",
      "Name: stars, dtype: float64\n",
      "\n",
      "IQR:\n",
      "4.4\n",
      "\n"
     ]
    }
   ],
   "source": [
    "calc_stat(df['stars'])"
   ]
  },
  {
   "cell_type": "markdown",
   "id": "0e2ee904-3d18-4205-a453-27d7f1386343",
   "metadata": {
    "tags": []
   },
   "source": [
    "- The IQR, where 50% of rates are found, is 4.4 which spans almost the whole range of possible values (0-5). The standard deviation is 2.19 which is rather big for considerend range. These values indicates that there is a wide variation in customer feedback."
   ]
  },
  {
   "cell_type": "markdown",
   "id": "bb654eb5-1dc5-49aa-9d9c-a4d1336fa7dd",
   "metadata": {},
   "source": [
    "**3.Shape of the Distribution:**\n",
    " - Calculate the skewness and kurtosis for the rating column.\n",
    " - Are the ratings normally distributed, or do they lean towards higher or lower values?\n",
    "\n"
   ]
  },
  {
   "cell_type": "code",
   "execution_count": 102,
   "id": "3163d77c-dca9-4b16-8d84-af042f9509c3",
   "metadata": {},
   "outputs": [
    {
     "name": "stdout",
     "output_type": "stream",
     "text": [
      "Skewness and kurtosis including stars qual to zero:\n",
      "Skewness: 0.08120735761080985\n",
      "Kurtosis: -1.9260061280432985\n",
      "\n",
      "Skewness and kurtosis excluding stars qual to zero (no rating):\n",
      "Skewness: -2.3795681122127945\n",
      "Kurtosis: 9.78193769066435\n"
     ]
    }
   ],
   "source": [
    "print(\"Skewness and kurtosis including stars qual to zero:\")\n",
    "print(f\"Skewness: {df['stars'].skew()}\")\n",
    "print(f\"Kurtosis: {df['stars'].kurtosis()}\")\n",
    "print()\n",
    "print(\"Skewness and kurtosis excluding stars qual to zero (no rating):\")\n",
    "print(f\"Skewness: {df['stars'][df['stars'] > 0].skew()}\")\n",
    "print(f\"Kurtosis: {df['stars'][df['stars'] > 0].kurtosis()}\")"
   ]
  },
  {
   "cell_type": "markdown",
   "id": "4ec72229-a074-45ff-9841-62cc5aac73bb",
   "metadata": {
    "tags": []
   },
   "source": [
    "- The values of skewness and kurtosis are different when the 'zero' star is included or not - giving opposit results\n",
    "\n",
    "- Assuming 'zero' star is luck of rating the analysis is done for results excluding this value:\n",
    "    - skewness is negative so the distribution is skewed to the left (tail on the left side),\n",
    "    - kurtosis value is greater than 3 indicating heavy tails (meaning more data points in the tails)"
   ]
  },
  {
   "cell_type": "markdown",
   "id": "47b09f34-5cde-436d-b1a9-626e71bd6663",
   "metadata": {},
   "source": [
    "**4.Visualizations:**\n",
    " - Plot a histogram to visualize the distribution of product ratings. Is there a specific rating that is more common?"
   ]
  },
  {
   "cell_type": "code",
   "execution_count": 97,
   "id": "c3c6e84e-bd35-46f3-b4ae-ef157eb308ca",
   "metadata": {},
   "outputs": [
    {
     "data": {
      "text/plain": [
       "<Axes: xlabel='stars', ylabel='Count'>"
      ]
     },
     "execution_count": 97,
     "metadata": {},
     "output_type": "execute_result"
    },
    {
     "data": {
      "image/png": "[encoded data removed]",
      "text/plain": [
       "<Figure size 640x480 with 1 Axes>"
      ]
     },
     "metadata": {},
     "output_type": "display_data"
    }
   ],
   "source": [
    "# Histogram including stars in range 0:5\n",
    "\n",
    "sns.histplot(df['stars'], bins=10)"
   ]
  },
  {
   "cell_type": "code",
   "execution_count": 96,
   "id": "55ebb74e-42c9-4b51-9fba-8ffdd0f575e3",
   "metadata": {
    "tags": []
   },
   "outputs": [
    {
     "data": {
      "text/plain": [
       "<Axes: xlabel='stars', ylabel='Count'>"
      ]
     },
     "execution_count": 96,
     "metadata": {},
     "output_type": "execute_result"
    },
    {
     "data": {
      "image/png": "[encoded data removed]",
      "text/plain": [
       "<Figure size 640x480 with 1 Axes>"
      ]
     },
     "metadata": {},
     "output_type": "display_data"
    }
   ],
   "source": [
    "# Histogram without stars '0' - so probably no rating\n",
    "\n",
    "sns.histplot(df['stars'][df['stars'] > 0], bins=10)"
   ]
  }
 ],
 "metadata": {
  "kernelspec": {
   "display_name": "Python 3 (ipykernel)",
   "language": "python",
   "name": "python3"
  },
  "language_info": {
   "codemirror_mode": {
    "name": "ipython",
    "version": 3
   },
   "file_extension": ".py",
   "mimetype": "text/x-python",
   "name": "python",
   "nbconvert_exporter": "python",
   "pygments_lexer": "ipython3",
   "version": "3.11.5"
  }
 },
 "nbformat": 4,
 "nbformat_minor": 5
}
